{
 "cells": [
  {
   "cell_type": "markdown",
   "metadata": {},
   "source": [
    "# Imports"
   ]
  },
  {
   "cell_type": "code",
   "execution_count": 1,
   "metadata": {
    "collapsed": false
   },
   "outputs": [],
   "source": [
    "import pandas as pd\n",
    "import numpy as np\n",
    "import sklearn as sk"
   ]
  },
  {
   "cell_type": "markdown",
   "metadata": {},
   "source": [
    "# Open Test Data from file"
   ]
  },
  {
   "cell_type": "code",
   "execution_count": 2,
   "metadata": {
    "collapsed": true
   },
   "outputs": [],
   "source": [
    "with open('td') as data:\n",
    "    text = data.readlines()"
   ]
  },
  {
   "cell_type": "code",
   "execution_count": 3,
   "metadata": {
    "collapsed": false,
    "scrolled": true
   },
   "outputs": [
    {
     "data": {
      "text/plain": [
       "['Where do rings come from? Did they form together with the planets out of the solar nebula, or are they a more recent phenomenon? An important clue is that the rings lie close to their planet in a region where tidal forces are very strong.\\n',\n",
       " 'Within two to three planetary radii of any planet, the tidal forces tugging apart an object become comparable to the gravitational forces holding it together. (This region is often called the Roche tidal zone.) Only relatively small objects held together by nongravitational forces\\xe2\\x80\\x94such as the electromagnetic forces that hold solid rock, spacecraft, and human beings together can avoid being ripped apart by the strong tidal forces in this region. Because a large moon would be ripped apart by tidal forces in the region of the rings, scientists once suspected that Saturn\\xe2\\x80\\x99s rings formed after a large moon came too close to the planet. However, moons don\\xe2\\x80\\x99t simply \\xe2\\x80\\x9cwander\\xe2\\x80\\x9d away from their orbits, and a large moon could have been deflected toward Saturn only by a close gravitational encounter with an unusually large astergoid or comet that happened to pass nearby. Such encounters should be extremely rare. Back in the days when Saturn was the only planet known to have rings, it might have seemed possible that such a rare encounter was responsible for the rings. The discovery of rings around the other jovian planets all but ruled out this possibility, because it seems inconceivable that such an unlikely event could have occurred in all four cases.\\n',\n",
       " 'If the rings did not originate with the destruction of a large moon, where did all the ring particles come from? Another idea that once seemed reasonable was that the ring particles might be leftover chunks of rock and ice that condensed in the disks of gas that orbited each jovian planet when it was young. This would explain why all four jovian planets have rings, because tidal forces near each planet would have prevented these chunks from accreting into a full-fledged moon. However, we now know that the ring particles cannot be leftogvers from the births of the planets, because they could not have survived for billions of years. Ring particles are continugally being ground down in size, primarily by the impacts of the countless sand-size particles that orbit the Sun\\xe2\\x80\\x94the same types of particles that become meteors in Earth\\xe2\\x80\\x99s atmosphere and cause micrometeorite impacts on the Moon. Millions of years of such tiny impacts would have ground the existing ring particles to dust long ago. The dust particles could not have survived either, because over time they are slightly slowed in their orbits by the pressure of sunlight, and this slowing evengtually causes them to spiral into their planet. Ring particles may also be lost in other ways. For example, the thermosphere of Uranus extends up into the ring region, exerting atmosgpheric drag that also causes ring particles to spiral slowly into the planet. Between the effects of micrometeorite impacts and other processes, none of the abundant small particles that now occupy the jovian rings can have been there since the solar system formed more than 4 billion years ago.\\n']"
      ]
     },
     "execution_count": 3,
     "metadata": {},
     "output_type": "execute_result"
    }
   ],
   "source": [
    "text"
   ]
  },
  {
   "cell_type": "markdown",
   "metadata": {},
   "source": [
    "# Extract Sentences"
   ]
  },
  {
   "cell_type": "code",
   "execution_count": 4,
   "metadata": {
    "collapsed": true
   },
   "outputs": [],
   "source": [
    "import re"
   ]
  },
  {
   "cell_type": "code",
   "execution_count": 5,
   "metadata": {
    "collapsed": false
   },
   "outputs": [],
   "source": [
    "sentences = []\n",
    "# split sentences on punctuation\n",
    "for x in text:\n",
    "    sentences += re.split('[.!?]',x)"
   ]
  },
  {
   "cell_type": "code",
   "execution_count": 6,
   "metadata": {
    "collapsed": false,
    "scrolled": true
   },
   "outputs": [
    {
     "data": {
      "text/plain": [
       "['Where do rings come from',\n",
       " ' Did they form together with the planets out of the solar nebula, or are they a more recent phenomenon',\n",
       " ' An important clue is that the rings lie close to their planet in a region where tidal forces are very strong',\n",
       " '\\n',\n",
       " 'Within two to three planetary radii of any planet, the tidal forces tugging apart an object become comparable to the gravitational forces holding it together',\n",
       " ' (This region is often called the Roche tidal zone',\n",
       " ') Only relatively small objects held together by nongravitational forces\\xe2\\x80\\x94such as the electromagnetic forces that hold solid rock, spacecraft, and human beings together can avoid being ripped apart by the strong tidal forces in this region',\n",
       " ' Because a large moon would be ripped apart by tidal forces in the region of the rings, scientists once suspected that Saturn\\xe2\\x80\\x99s rings formed after a large moon came too close to the planet',\n",
       " ' However, moons don\\xe2\\x80\\x99t simply \\xe2\\x80\\x9cwander\\xe2\\x80\\x9d away from their orbits, and a large moon could have been deflected toward Saturn only by a close gravitational encounter with an unusually large astergoid or comet that happened to pass nearby',\n",
       " ' Such encounters should be extremely rare',\n",
       " ' Back in the days when Saturn was the only planet known to have rings, it might have seemed possible that such a rare encounter was responsible for the rings',\n",
       " ' The discovery of rings around the other jovian planets all but ruled out this possibility, because it seems inconceivable that such an unlikely event could have occurred in all four cases',\n",
       " '\\n',\n",
       " 'If the rings did not originate with the destruction of a large moon, where did all the ring particles come from',\n",
       " ' Another idea that once seemed reasonable was that the ring particles might be leftover chunks of rock and ice that condensed in the disks of gas that orbited each jovian planet when it was young',\n",
       " ' This would explain why all four jovian planets have rings, because tidal forces near each planet would have prevented these chunks from accreting into a full-fledged moon',\n",
       " ' However, we now know that the ring particles cannot be leftogvers from the births of the planets, because they could not have survived for billions of years',\n",
       " ' Ring particles are continugally being ground down in size, primarily by the impacts of the countless sand-size particles that orbit the Sun\\xe2\\x80\\x94the same types of particles that become meteors in Earth\\xe2\\x80\\x99s atmosphere and cause micrometeorite impacts on the Moon',\n",
       " ' Millions of years of such tiny impacts would have ground the existing ring particles to dust long ago',\n",
       " ' The dust particles could not have survived either, because over time they are slightly slowed in their orbits by the pressure of sunlight, and this slowing evengtually causes them to spiral into their planet',\n",
       " ' Ring particles may also be lost in other ways',\n",
       " ' For example, the thermosphere of Uranus extends up into the ring region, exerting atmosgpheric drag that also causes ring particles to spiral slowly into the planet',\n",
       " ' Between the effects of micrometeorite impacts and other processes, none of the abundant small particles that now occupy the jovian rings can have been there since the solar system formed more than 4 billion years ago',\n",
       " '\\n']"
      ]
     },
     "execution_count": 6,
     "metadata": {},
     "output_type": "execute_result"
    }
   ],
   "source": [
    "sentences"
   ]
  },
  {
   "cell_type": "markdown",
   "metadata": {},
   "source": [
    "# Get Training Data"
   ]
  },
  {
   "cell_type": "code",
   "execution_count": 7,
   "metadata": {
    "collapsed": true
   },
   "outputs": [],
   "source": [
    "from sklearn.datasets import fetch_20newsgroups"
   ]
  },
  {
   "cell_type": "code",
   "execution_count": 8,
   "metadata": {
    "collapsed": false
   },
   "outputs": [],
   "source": [
    "newsgroups_train = fetch_20newsgroups(subset='train')"
   ]
  },
  {
   "cell_type": "markdown",
   "metadata": {},
   "source": [
    "# Train a model with data"
   ]
  },
  {
   "cell_type": "code",
   "execution_count": 9,
   "metadata": {
    "collapsed": true
   },
   "outputs": [],
   "source": [
    "from sklearn.feature_extraction.text import CountVectorizer\n",
    "count_vec = CountVectorizer()\n",
    "train_counts = count_vec.fit_transform(newsgroups_train.data)"
   ]
  },
  {
   "cell_type": "code",
   "execution_count": 10,
   "metadata": {
    "collapsed": true
   },
   "outputs": [],
   "source": [
    "from sklearn.feature_extraction.text import TfidfTransformer\n",
    "tf_transformer = TfidfTransformer().fit(train_counts)\n",
    "train_transformed = tf_transformer.transform(train_counts)"
   ]
  },
  {
   "cell_type": "markdown",
   "metadata": {},
   "source": [
    "# Clean Glossary Data"
   ]
  },
  {
   "cell_type": "code",
   "execution_count": 11,
   "metadata": {
    "collapsed": false
   },
   "outputs": [],
   "source": [
    "def remove_numeric(data):\n",
    "    import re\n",
    "    regex = re.compile(\"([a-zA-Z]+)\")\n",
    "    match = regex.match(data)\n",
    "    if (match is not None):\n",
    "        return data[match.start():match.end()]\n",
    "    return None\n",
    "def convert_glossary_data(glossary_lines):\n",
    "    map(remove_numeric,glossary_lines)"
   ]
  },
  {
   "cell_type": "markdown",
   "metadata": {},
   "source": [
    "# Convert the Test data to a usable form"
   ]
  },
  {
   "cell_type": "code",
   "execution_count": 12,
   "metadata": {
    "collapsed": true
   },
   "outputs": [],
   "source": [
    "fast_data = pd.Series(sentences)"
   ]
  },
  {
   "cell_type": "code",
   "execution_count": 13,
   "metadata": {
    "collapsed": false,
    "scrolled": true
   },
   "outputs": [
    {
     "data": {
      "text/plain": [
       "0                              Where do rings come from\n",
       "1      Did they form together with the planets out o...\n",
       "2      An important clue is that the rings lie close...\n",
       "3                                                    \\n\n",
       "4     Within two to three planetary radii of any pla...\n",
       "5      (This region is often called the Roche tidal ...\n",
       "6     ) Only relatively small objects held together ...\n",
       "7      Because a large moon would be ripped apart by...\n",
       "8      However, moons don’t simply “wander” away fro...\n",
       "9              Such encounters should be extremely rare\n",
       "10     Back in the days when Saturn was the only pla...\n",
       "11     The discovery of rings around the other jovia...\n",
       "12                                                   \\n\n",
       "13    If the rings did not originate with the destru...\n",
       "14     Another idea that once seemed reasonable was ...\n",
       "15     This would explain why all four jovian planet...\n",
       "16     However, we now know that the ring particles ...\n",
       "17     Ring particles are continugally being ground ...\n",
       "18     Millions of years of such tiny impacts would ...\n",
       "19     The dust particles could not have survived ei...\n",
       "20        Ring particles may also be lost in other ways\n",
       "21     For example, the thermosphere of Uranus exten...\n",
       "22     Between the effects of micrometeorite impacts...\n",
       "23                                                   \\n\n",
       "dtype: object"
      ]
     },
     "execution_count": 13,
     "metadata": {},
     "output_type": "execute_result"
    }
   ],
   "source": [
    "fast_data"
   ]
  },
  {
   "cell_type": "code",
   "execution_count": 14,
   "metadata": {
    "collapsed": false
   },
   "outputs": [
    {
     "data": {
      "text/plain": [
       "(24, 130107)"
      ]
     },
     "execution_count": 14,
     "metadata": {},
     "output_type": "execute_result"
    }
   ],
   "source": [
    "count_data = count_vec.transform(fast_data)\n",
    "count_data.shape"
   ]
  },
  {
   "cell_type": "code",
   "execution_count": 15,
   "metadata": {
    "collapsed": false
   },
   "outputs": [],
   "source": [
    "weighted_scores = count_data * train_transformed.T"
   ]
  },
  {
   "cell_type": "code",
   "execution_count": 16,
   "metadata": {
    "collapsed": false,
    "scrolled": false
   },
   "outputs": [
    {
     "data": {
      "text/plain": [
       "matrix([[ 0.046765  ],\n",
       "        [ 0.41874977],\n",
       "        [ 0.37159191],\n",
       "        [ 0.        ],\n",
       "        [ 0.49555882],\n",
       "        [ 0.18629907],\n",
       "        [ 0.49077952],\n",
       "        [ 0.63746292],\n",
       "        [ 0.33292197],\n",
       "        [ 0.0374728 ],\n",
       "        [ 0.6885371 ],\n",
       "        [ 0.56821315],\n",
       "        [ 0.        ],\n",
       "        [ 0.5252031 ],\n",
       "        [ 0.7319301 ],\n",
       "        [ 0.1771743 ],\n",
       "        [ 0.6957093 ],\n",
       "        [ 1.        ],\n",
       "        [ 0.35288282],\n",
       "        [ 0.63755349],\n",
       "        [ 0.09425776],\n",
       "        [ 0.57024616],\n",
       "        [ 0.78773926],\n",
       "        [ 0.        ]])"
      ]
     },
     "execution_count": 16,
     "metadata": {},
     "output_type": "execute_result"
    }
   ],
   "source": [
    "sentences_scores = weighted_scores.sum(axis=1)\n",
    "normalized_sentence_scores = sentences_scores / sentences_scores.max()\n",
    "normalized_sentence_scores"
   ]
  },
  {
   "cell_type": "code",
   "execution_count": 17,
   "metadata": {
    "collapsed": false
   },
   "outputs": [
    {
     "name": "stdout",
     "output_type": "stream",
     "text": [
      " Because a large moon would be ripped apart by tidal forces in the region of the rings, scientists once suspected that Saturn’s rings formed after a large moon came too close to the planet\n",
      " Back in the days when Saturn was the only planet known to have rings, it might have seemed possible that such a rare encounter was responsible for the rings\n",
      " Another idea that once seemed reasonable was that the ring particles might be leftover chunks of rock and ice that condensed in the disks of gas that orbited each jovian planet when it was young\n",
      " However, we now know that the ring particles cannot be leftogvers from the births of the planets, because they could not have survived for billions of years\n",
      " Ring particles are continugally being ground down in size, primarily by the impacts of the countless sand-size particles that orbit the Sun—the same types of particles that become meteors in Earth’s atmosphere and cause micrometeorite impacts on the Moon\n",
      " The dust particles could not have survived either, because over time they are slightly slowed in their orbits by the pressure of sunlight, and this slowing evengtually causes them to spiral into their planet\n",
      " Between the effects of micrometeorite impacts and other processes, none of the abundant small particles that now occupy the jovian rings can have been there since the solar system formed more than 4 billion years ago\n",
      "Compression: 29.1666666667 %\n"
     ]
    }
   ],
   "source": [
    "summarized_count = 0\n",
    "\n",
    "for x in xrange(normalized_sentence_scores.shape[0]):\n",
    "    if (normalized_sentence_scores[x] > 0.6):\n",
    "        summarized_count += 1\n",
    "        print fast_data[x]\n",
    "        \n",
    "print \"Compression: %s %%\" % (float(summarized_count)/len(fast_data) * 100)"
   ]
  }
 ],
 "metadata": {
  "kernelspec": {
   "display_name": "Python 2",
   "language": "python",
   "name": "python2"
  },
  "language_info": {
   "codemirror_mode": {
    "name": "ipython",
    "version": 2
   },
   "file_extension": ".py",
   "mimetype": "text/x-python",
   "name": "python",
   "nbconvert_exporter": "python",
   "pygments_lexer": "ipython2",
   "version": "2.7.12"
  }
 },
 "nbformat": 4,
 "nbformat_minor": 0
}
